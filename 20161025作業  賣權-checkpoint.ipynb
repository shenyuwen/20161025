{
 "cells": [
  {
   "cell_type": "code",
   "execution_count": 1,
   "metadata": {
    "collapsed": true
   },
   "outputs": [],
   "source": [
    "% matplotlib inline\n",
    "\n",
    "#{numpy}\n",
    "#{matplotlib}\n",
    "\n",
    "import numpy as np\n",
    "K = 9100\n",
    "Interval = 500\n",
    "Premium_Call = 179\n",
    "Premium_Put = 185\n",
    "ST = np.arange(K - Interval, K + Interval)  #Vectorization\n",
    "#ST\n",
    "#type(S)"
   ]
  },
  {
   "cell_type": "code",
   "execution_count": 2,
   "metadata": {
    "collapsed": true
   },
   "outputs": [],
   "source": [
    "# Payoff 計算\n",
    "Payoff_LongCall = np.maximum(ST - K, 0) - Premium_Call  #Long Call\n",
    "Payoff_ShortCall = - Payoff_LongCall                    #Short Call\n",
    "Payoff_LongPut = np.maximum(K - ST, 0)  - Premium_Put   #Long Put\n",
    "Payoff_ShortPut = - Payoff_LongPut                      #Short Put"
   ]
  },
  {
   "cell_type": "code",
   "execution_count": 3,
   "metadata": {
    "collapsed": false
   },
   "outputs": [
    {
     "data": {
      "text/plain": [
       "<matplotlib.lines.Line2D at 0x5c606a0>"
      ]
     },
     "execution_count": 3,
     "metadata": {},
     "output_type": "execute_result"
    },
    {
     "data": {
      "image/png": "[encoded data removed]",
      "text/plain": [
       "<matplotlib.figure.Figure at 0x79079e8>"
      ]
     },
     "metadata": {},
     "output_type": "display_data"
    }
   ],
   "source": [
    "import matplotlib.pyplot as plt\n",
    "plt.plot(ST, Payoff_LongPut)\n",
    "plt.plot(ST, Payoff_ShortPut)\n",
    "plt.axhline(0, color='black', ls='dashed')\n",
    "plt.axhline(K, color='black', ls='dashed')\n",
    "plt.axhline(K + Premium_Put, color='black', ls='dashed')\n",
    "#plt.ylim([min(payoff)-10, max(payoff)+10])\n",
    "#plt.show()"
   ]
  },
  {
   "cell_type": "code",
   "execution_count": null,
   "metadata": {
    "collapsed": true
   },
   "outputs": [],
   "source": []
  }
 ],
 "metadata": {
  "kernelspec": {
   "display_name": "Python [Root]",
   "language": "python",
   "name": "Python [Root]"
  },
  "language_info": {
   "codemirror_mode": {
    "name": "ipython",
    "version": 3
   },
   "file_extension": ".py",
   "mimetype": "text/x-python",
   "name": "python",
   "nbconvert_exporter": "python",
   "pygments_lexer": "ipython3",
   "version": "3.5.2"
  }
 },
 "nbformat": 4,
 "nbformat_minor": 0
}
